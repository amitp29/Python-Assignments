{
 "cells": [
  {
   "cell_type": "code",
   "execution_count": 1,
   "metadata": {},
   "outputs": [],
   "source": []
  },
  {
   "cell_type": "code",
   "execution_count": 4,
   "metadata": {},
   "outputs": [
    {
     "name": "stdout",
     "output_type": "stream",
     "text": [
      "Inside SubClass\n",
      "Inside MyParentClass\n"
     ]
    }
   ],
   "source": [
    "class MyParentClass(object):\n",
    "    def __init__(self):\n",
    "        print 'Inside MyParentClass'\n",
    "        pass\n",
    "\n",
    "class SubClass(MyParentClass):\n",
    "    def __init__(self):\n",
    "        print 'Inside SubClass'\n",
    "        MyParentClass.__init__(self)\n",
    "\n",
    "s = SubClass()"
   ]
  },
  {
   "cell_type": "code",
   "execution_count": 35,
   "metadata": {},
   "outputs": [
    {
     "name": "stdout",
     "output_type": "stream",
     "text": [
      "Inside SubClass\n",
      "Inside MyParentClass\n",
      "1\n",
      "5\n",
      "HERE >>>>>>>>>>>>>>>>>>>>>>>>>>>>>>>>>>>>>>>>>>>>>>\n"
     ]
    }
   ],
   "source": [
    "class MyParentClass(object):\n",
    "    def __init__(self, x, y):\n",
    "        print 'Inside MyParentClass'\n",
    "        print x\n",
    "        print y\n",
    "        print 'HERE >>>>>>>>>>>>>>>>>>>>>>>>>>>>>>>>>>>>>>>>>>>>>>'\n",
    "        pass\n",
    "\n",
    "class SubClass(MyParentClass):\n",
    "    def __init__(self, x, y):\n",
    "        print 'Inside SubClass'\n",
    "        super(SubClass,self).__init__(x, y)\n",
    "        \n",
    "s = SubClass(1,5)"
   ]
  },
  {
   "cell_type": "code",
   "execution_count": null,
   "metadata": {},
   "outputs": [],
   "source": []
  },
  {
   "cell_type": "code",
   "execution_count": 14,
   "metadata": {},
   "outputs": [
    {
     "name": "stdout",
     "output_type": "stream",
     "text": [
      "ChildA created\n",
      "Base created\n",
      "ChildB created\n",
      "Base created\n"
     ]
    }
   ],
   "source": [
    "class Base(object):\n",
    "    def __init__(self):\n",
    "        print \"Base created\"\n",
    "\n",
    "class ChildA(Base):\n",
    "    def __init__(self):\n",
    "        print \"ChildA created\"\n",
    "        Base.__init__(self)\n",
    "\n",
    "class ChildB(Base):\n",
    "    def __init__(self):\n",
    "        print \"ChildB created\"\n",
    "        super(ChildB, self).__init__()\n",
    "        \n",
    "a = ChildA()\n",
    "b = ChildB()"
   ]
  },
  {
   "cell_type": "code",
   "execution_count": null,
   "metadata": {},
   "outputs": [],
   "source": []
  },
  {
   "cell_type": "code",
   "execution_count": null,
   "metadata": {},
   "outputs": [],
   "source": []
  },
  {
   "cell_type": "code",
   "execution_count": 54,
   "metadata": {},
   "outputs": [
    {
     "name": "stdout",
     "output_type": "stream",
     "text": [
      "Inside B\n",
      "Inside D\n",
      "m of D called\n",
      "m of B called\n",
      "m of C called\n",
      "m of A called\n"
     ]
    }
   ],
   "source": [
    "class A(object):\n",
    "    def __init__(self):\n",
    "        print 'Inside A'\n",
    "        \n",
    "    def m(self):\n",
    "        print(\"m of A called\")\n",
    "\n",
    "class B(A):\n",
    "    def __init__(self):\n",
    "        print 'Inside B'\n",
    "    def m(self):\n",
    "        print(\"m of B called\")\n",
    "        super(B, self).m()\n",
    "    \n",
    "class C(A):\n",
    "    def __init__(self):\n",
    "        print 'Inside C'\n",
    "    def m(self):\n",
    "        print(\"m of C called\")\n",
    "        super(C, self).m()\n",
    "\n",
    "class D(B,C):   \n",
    "    def __init__(self):\n",
    "        super(D, self).__init__()\n",
    "        print 'Inside D'\n",
    "    def m(self):\n",
    "        print(\"m of D called\")\n",
    "        super(D, self).m()\n",
    "        \n",
    "d = D()\n",
    "d.m()"
   ]
  },
  {
   "cell_type": "code",
   "execution_count": 27,
   "metadata": {},
   "outputs": [
    {
     "name": "stdout",
     "output_type": "stream",
     "text": [
      "m of D called\n"
     ]
    },
    {
     "ename": "TypeError",
     "evalue": "super() takes at least 1 argument (0 given)",
     "output_type": "error",
     "traceback": [
      "\u001b[1;31m---------------------------------------------------------------------------\u001b[0m",
      "\u001b[1;31mTypeError\u001b[0m                                 Traceback (most recent call last)",
      "\u001b[1;32m<ipython-input-27-b0a7e7252654>\u001b[0m in \u001b[0;36m<module>\u001b[1;34m()\u001b[0m\n\u001b[0;32m     19\u001b[0m \u001b[1;33m\u001b[0m\u001b[0m\n\u001b[0;32m     20\u001b[0m \u001b[0md\u001b[0m \u001b[1;33m=\u001b[0m \u001b[0mD\u001b[0m\u001b[1;33m(\u001b[0m\u001b[1;33m)\u001b[0m\u001b[1;33m\u001b[0m\u001b[0m\n\u001b[1;32m---> 21\u001b[1;33m \u001b[0md\u001b[0m\u001b[1;33m.\u001b[0m\u001b[0mm\u001b[0m\u001b[1;33m(\u001b[0m\u001b[1;33m)\u001b[0m\u001b[1;33m\u001b[0m\u001b[0m\n\u001b[0m",
      "\u001b[1;32m<ipython-input-27-b0a7e7252654>\u001b[0m in \u001b[0;36mm\u001b[1;34m(self)\u001b[0m\n\u001b[0;32m     16\u001b[0m     \u001b[1;32mdef\u001b[0m \u001b[0mm\u001b[0m\u001b[1;33m(\u001b[0m\u001b[0mself\u001b[0m\u001b[1;33m)\u001b[0m\u001b[1;33m:\u001b[0m\u001b[1;33m\u001b[0m\u001b[0m\n\u001b[0;32m     17\u001b[0m         \u001b[1;32mprint\u001b[0m\u001b[1;33m(\u001b[0m\u001b[1;34m\"m of D called\"\u001b[0m\u001b[1;33m)\u001b[0m\u001b[1;33m\u001b[0m\u001b[0m\n\u001b[1;32m---> 18\u001b[1;33m         \u001b[0msuper\u001b[0m\u001b[1;33m(\u001b[0m\u001b[1;33m)\u001b[0m\u001b[1;33m.\u001b[0m\u001b[0mm\u001b[0m\u001b[1;33m(\u001b[0m\u001b[1;33m)\u001b[0m\u001b[1;33m\u001b[0m\u001b[0m\n\u001b[0m\u001b[0;32m     19\u001b[0m \u001b[1;33m\u001b[0m\u001b[0m\n\u001b[0;32m     20\u001b[0m \u001b[0md\u001b[0m \u001b[1;33m=\u001b[0m \u001b[0mD\u001b[0m\u001b[1;33m(\u001b[0m\u001b[1;33m)\u001b[0m\u001b[1;33m\u001b[0m\u001b[0m\n",
      "\u001b[1;31mTypeError\u001b[0m: super() takes at least 1 argument (0 given)"
     ]
    }
   ],
   "source": [
    "class A:\n",
    "    def m(self):\n",
    "        print(\"m of A called\")\n",
    "\n",
    "class B(A):\n",
    "    def m(self):\n",
    "        print(\"m of B called\")\n",
    "        super().m()\n",
    "    \n",
    "class C(A):\n",
    "    def m(self):\n",
    "        print(\"m of C called\")\n",
    "        super().m()\n",
    "\n",
    "class D(B,C):\n",
    "    def m(self):\n",
    "        print(\"m of D called\")\n",
    "        super().m()\n",
    "        \n",
    "d = D()\n",
    "d.m()"
   ]
  },
  {
   "cell_type": "code",
   "execution_count": 30,
   "metadata": {},
   "outputs": [
    {
     "name": "stdout",
     "output_type": "stream",
     "text": [
      "m of D called\n",
      "m of B called\n",
      "m of C called\n",
      "m of A called\n"
     ]
    }
   ],
   "source": [
    "class A(object):\n",
    "    def __init__(self):\n",
    "        print(\"m of A called\")\n",
    "\n",
    "class B(A):\n",
    "    def __init__(self):\n",
    "        print(\"m of B called\")\n",
    "        super(B, self).__init__()\n",
    "    \n",
    "class C(A):\n",
    "    def __init__(self):\n",
    "        print(\"m of C called\")\n",
    "        super(C, self).__init__()\n",
    "\n",
    "class D(B,C):\n",
    "    def __init__(self):\n",
    "        print(\"m of D called\")\n",
    "        super(D, self).__init__()\n",
    "        \n",
    "d = D()\n"
   ]
  },
  {
   "cell_type": "code",
   "execution_count": 52,
   "metadata": {},
   "outputs": [
    {
     "name": "stdout",
     "output_type": "stream",
     "text": [
      "Inside add class\n",
      "The square root is : 3.0\n",
      "The sum is : 10\n",
      "The subtarction is : -2\n",
      "The multiplication is : 24\n",
      "The division is : 1\n"
     ]
    }
   ],
   "source": [
    "#mathnew and parent classes as sqroot,   addition,subtraction, multiplication and division\n",
    "\n",
    "class Sqroot(object):\n",
    "    def __init__(self):\n",
    "        print 'Inside sqroot class'\n",
    "        \n",
    "    def sqroot(self, num):\n",
    "        print 'The square root is :',num**0.5\n",
    "    \n",
    "\n",
    "class Add(object):\n",
    "    def __init__(self):\n",
    "        print 'Inside add class'\n",
    "        \n",
    "    def add(self, num1, num2):\n",
    "        print 'The sum is :', num1+num2\n",
    "\n",
    "class Sub(object):\n",
    "    def __init__(self):\n",
    "        print 'Inside subtraction class'\n",
    "    \n",
    "    def sub(self, num1, num2):\n",
    "        print 'The subtarction is :', num1-num2\n",
    "\n",
    "\n",
    "class Mul(object):\n",
    "    def __init__(self):\n",
    "        print 'Inside multiplication class'\n",
    "        \n",
    "    def mul(self, num1, num2):\n",
    "        print 'The multiplication is :', num1*num2\n",
    "\n",
    "\n",
    "class Div(object):\n",
    "    def __init__(self):\n",
    "        print 'Inside division class'\n",
    "    \n",
    "    def div(self, num1, num2):\n",
    "        print 'The division is :', num1/num2\n",
    "\n",
    "\n",
    "class Mathnew(Add, Sub, Sqroot, Mul, Div):\n",
    "    def __init__(self):\n",
    "        super(Mathnew, self).__init__()\n",
    "        pass\n",
    "    \n",
    "ob = Mathnew()\n",
    "ob.sqroot(9)\n",
    "ob.add(6,4)\n",
    "ob.sub(3,5)\n",
    "ob.mul(6,4)\n",
    "ob.div(6,4)"
   ]
  },
  {
   "cell_type": "code",
   "execution_count": null,
   "metadata": {},
   "outputs": [],
   "source": []
  }
 ],
 "metadata": {
  "kernelspec": {
   "display_name": "Python 2",
   "language": "python",
   "name": "python2"
  },
  "language_info": {
   "codemirror_mode": {
    "name": "ipython",
    "version": 2
   },
   "file_extension": ".py",
   "mimetype": "text/x-python",
   "name": "python",
   "nbconvert_exporter": "python",
   "pygments_lexer": "ipython2",
   "version": "2.7.11"
  }
 },
 "nbformat": 4,
 "nbformat_minor": 2
}
