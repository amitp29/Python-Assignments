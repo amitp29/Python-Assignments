{
 "cells": [
  {
   "cell_type": "code",
   "execution_count": 14,
   "metadata": {},
   "outputs": [
    {
     "name": "stdout",
     "output_type": "stream",
     "text": [
      "Inside __init__ of Fourth class\n",
      "Inside method1 of Fourth class\n",
      "Inside method1 of Second class\n",
      "Inside method1 of Third class\n",
      "Inside method1 of First class\n"
     ]
    }
   ],
   "source": [
    "#10.\tCreate a class called First and two classes called Second  and Third \n",
    "#which inherit from First. Create class called Fourth which inherits \n",
    "#from Second and Third. Create a common method called method1 in all the classes and provide the Method Resolution Order\n",
    "\n",
    "class First(object):\n",
    "    def __init__(self):\n",
    "        print 'Inside __init__ of First class'\n",
    "\n",
    "    def method1(self):\n",
    "        print 'Inside method1 of First class'\n",
    "\n",
    "\n",
    "class Second(First):\n",
    "    def __init__(self):\n",
    "        print 'Inside __init__ of Second class'\n",
    "\n",
    "    def method1(self):\n",
    "        print 'Inside method1 of Second class'\n",
    "        super(Second, self).method1()\n",
    "\n",
    "\n",
    "class Third(First):\n",
    "    def __init__(self):\n",
    "        print 'Inside __init__ of Third class'\n",
    "\n",
    "    \n",
    "    def method1(self):\n",
    "        print 'Inside method1 of Third class'\n",
    "        super(Third, self).method1()\n",
    "\n",
    "\n",
    "class Fourth(Second, Third):\n",
    "    def __init__(self):\n",
    "        print 'Inside __init__ of Fourth class'\n",
    "        \n",
    "    def method1(self):\n",
    "        print 'Inside method1 of Fourth class'\n",
    "        super(Fourth, self).method1()\n",
    "    \n",
    "    \n",
    "obj = Fourth()\n",
    "obj.method1()"
   ]
  },
  {
   "cell_type": "code",
   "execution_count": null,
   "metadata": {},
   "outputs": [],
   "source": []
  }
 ],
 "metadata": {
  "kernelspec": {
   "display_name": "Python 2",
   "language": "python",
   "name": "python2"
  },
  "language_info": {
   "codemirror_mode": {
    "name": "ipython",
    "version": 2
   },
   "file_extension": ".py",
   "mimetype": "text/x-python",
   "name": "python",
   "nbconvert_exporter": "python",
   "pygments_lexer": "ipython2",
   "version": "2.7.11"
  }
 },
 "nbformat": 4,
 "nbformat_minor": 2
}
